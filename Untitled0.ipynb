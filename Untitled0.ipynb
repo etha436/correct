{
  "nbformat": 4,
  "nbformat_minor": 0,
  "metadata": {
    "colab": {
      "provenance": [],
      "authorship_tag": "ABX9TyOaG9V6o3iJoeYwgc06ZN84",
      "include_colab_link": true
    },
    "kernelspec": {
      "name": "python3",
      "display_name": "Python 3"
    },
    "language_info": {
      "name": "python"
    }
  },
  "cells": [
    {
      "cell_type": "markdown",
      "metadata": {
        "id": "view-in-github",
        "colab_type": "text"
      },
      "source": [
        "<a href=\"https://colab.research.google.com/github/etha436/correct/blob/main/Untitled0.ipynb\" target=\"_parent\"><img src=\"https://colab.research.google.com/assets/colab-badge.svg\" alt=\"Open In Colab\"/></a>"
      ]
    },
    {
      "cell_type": "code",
      "source": [
        "# calculator\n",
        "while True:\n",
        "    Firstnumber=float(input(\"First number: \"))\n",
        "    Secondnumber=float(input(\"Second number: \"))\n",
        "    sumresult=Firstnumber+Secondnumber\n",
        "    Multiplication=Firstnumber*Secondnumber\n",
        "    Substraction=Firstnumber-Secondnumber\n",
        "    Division=Firstnumber/Secondnumber if Secondnumber!=0 else \"undefined\"\n",
        "    Sign = (input(\"Enter operation or write ( +, -, *, /): \")).strip().lower()\n",
        "    print(f\"You entered: '{Sign}'\")\n",
        "    if Sign in [\"addition\",\"+\"]:\n",
        "        print(f\" The addition of {Firstnumber} and {Secondnumber} is {sumresult}\")\n",
        "    elif Sign in [\"multiplication\",\"*\"]:\n",
        "        print(f\" The multplication of {Firstnumber} and {Secondnumber} is {Multiplication}\")\n",
        "    elif Sign in [\"substraction\",\"-\"]:\n",
        "        print(f\" The substraction of {Firstnumber} and {Secondnumber} is {Substraction}\")\n",
        "    elif Sign in [\"division\",\"/\"]:\n",
        "        if Secondnumber==0:\n",
        "            print(\"Error: cannot divide by zero\")\n",
        "        else:\n",
        "            print(f\" The division of {Firstnumber} and {Secondnumber} is {Division}\")\n",
        "    else:\n",
        "        print(\"Not recognized\")\n",
        "    suggestion= input(\" Do you want to continue?: \").strip().lower()\n",
        "    if suggestion not in [\"yes\",\"yeah\",\"ye\"]:\n",
        "        print(\"Thank you for using our calculator\")\n",
        "        break\n"
      ],
      "metadata": {
        "colab": {
          "base_uri": "https://localhost:8080/"
        },
        "id": "IHTblOC6g2NJ",
        "outputId": "8c93fef3-30c5-4ecb-a027-d4d178fec848"
      },
      "execution_count": 1,
      "outputs": [
        {
          "output_type": "stream",
          "name": "stdout",
          "text": [
            "First number: 6789\n",
            "Second number: 56\n",
            "Enter operation or write ( +, -, *, /): /\n",
            "You entered: '/'\n",
            " The division of 6789.0 and 56.0 is 121.23214285714286\n",
            " Do you want to continue?: thank , i don't want\n",
            "Thank you for using our calculator\n"
          ]
        }
      ]
    }
  ]
}